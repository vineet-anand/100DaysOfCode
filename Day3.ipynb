{
 "cells": [
  {
   "cell_type": "markdown",
   "id": "f2616394",
   "metadata": {},
   "source": [
    "100 Days Of Code - Log\n",
    "\n",
    "Day 3: October 29, 2023\n",
    "\n",
    "**Today's Progress**: \n",
    "1. Today I worked on few more logics and concepts of functions.\n",
    "2. Learned list Comprehension, enumerate functions and there use cases.\n",
    "2. Practice few question of list comprehension.\n",
    "3. Tried to explore few methods of string, list, tuple, dictionary.\n"
   ]
  },
  {
   "cell_type": "code",
   "execution_count": 1,
   "id": "44ed6785",
   "metadata": {},
   "outputs": [],
   "source": [
    "def myfunc(x):\n",
    "    out = []\n",
    "    for i in range(len(x)):\n",
    "        if i%2==0:\n",
    "            out.append(x[i].lower())\n",
    "        else:\n",
    "            out.append(x[i].upper())\n",
    "    return ''.join(out)"
   ]
  },
  {
   "cell_type": "code",
   "execution_count": 2,
   "id": "a41f8ef1",
   "metadata": {},
   "outputs": [
    {
     "data": {
      "text/plain": [
       "'aRgUmEnT'"
      ]
     },
     "execution_count": 2,
     "metadata": {},
     "output_type": "execute_result"
    }
   ],
   "source": [
    "myfunc('argument')"
   ]
  },
  {
   "cell_type": "code",
   "execution_count": 3,
   "id": "eb0bc5aa",
   "metadata": {},
   "outputs": [],
   "source": [
    "# Method 1 \n",
    "# Intergating list comprehension concept with function\n",
    "def rn1():\n",
    "    i = []\n",
    "    for x in range(0,11):\n",
    "        i.append(x)\n",
    "    return i"
   ]
  },
  {
   "cell_type": "code",
   "execution_count": 4,
   "id": "795b1386",
   "metadata": {},
   "outputs": [
    {
     "data": {
      "text/plain": [
       "[0, 1, 2, 3, 4, 5, 6, 7, 8, 9, 10]"
      ]
     },
     "execution_count": 4,
     "metadata": {},
     "output_type": "execute_result"
    }
   ],
   "source": [
    "rn1()"
   ]
  },
  {
   "cell_type": "code",
   "execution_count": 5,
   "id": "ab41c61c",
   "metadata": {},
   "outputs": [],
   "source": [
    "# Method 2\n",
    "# Construction of list comprehension with function\n",
    "def rn2():\n",
    "#    i = [x for x in range(0,11)]\n",
    "#    for x in range(0,11):\n",
    "#        i.append(x)\n",
    "    return [x for x in range(0,11)]"
   ]
  },
  {
   "cell_type": "code",
   "execution_count": 6,
   "id": "522787bd",
   "metadata": {},
   "outputs": [
    {
     "data": {
      "text/plain": [
       "[0, 1, 2, 3, 4, 5, 6, 7, 8, 9, 10]"
      ]
     },
     "execution_count": 6,
     "metadata": {},
     "output_type": "execute_result"
    }
   ],
   "source": [
    "rn2()"
   ]
  },
  {
   "cell_type": "code",
   "execution_count": 7,
   "id": "4c0e0777",
   "metadata": {},
   "outputs": [
    {
     "name": "stdout",
     "output_type": "stream",
     "text": [
      "at index 0 the letter is S\n",
      "at index 1 the letter is T\n",
      "at index 2 the letter is A\n",
      "at index 3 the letter is R\n",
      "at index 4 the letter is S\n",
      "at index 5 the letter is H\n",
      "at index 6 the letter is I\n",
      "at index 7 the letter is P\n"
     ]
    }
   ],
   "source": [
    "x = 'STARSHIP'\n",
    "for indx, letr in enumerate(x):\n",
    "#    print(indx)\n",
    "#    print(letr)\n",
    "    print('at index {} the letter is {}'.format(indx,letr))\n",
    "    "
   ]
  },
  {
   "cell_type": "code",
   "execution_count": 8,
   "id": "f23852b2",
   "metadata": {},
   "outputs": [
    {
     "name": "stdout",
     "output_type": "stream",
     "text": [
      "(0, 'S')\n",
      "(1, 'P')\n",
      "(2, 'A')\n",
      "(3, 'C')\n",
      "(4, 'E')\n",
      "(5, 'S')\n",
      "(6, 'H')\n",
      "(7, 'I')\n",
      "(8, 'P')\n"
     ]
    }
   ],
   "source": [
    "x = 'SPACESHIP'\n",
    "for i in enumerate(x):\n",
    "    print(i)"
   ]
  },
  {
   "cell_type": "code",
   "execution_count": null,
   "id": "040f7b55",
   "metadata": {},
   "outputs": [],
   "source": []
  }
 ],
 "metadata": {
  "kernelspec": {
   "display_name": "Python 3 (ipykernel)",
   "language": "python",
   "name": "python3"
  },
  "language_info": {
   "codemirror_mode": {
    "name": "ipython",
    "version": 3
   },
   "file_extension": ".py",
   "mimetype": "text/x-python",
   "name": "python",
   "nbconvert_exporter": "python",
   "pygments_lexer": "ipython3",
   "version": "3.11.4"
  }
 },
 "nbformat": 4,
 "nbformat_minor": 5
}
