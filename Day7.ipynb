{
 "cells": [
  {
   "cell_type": "markdown",
   "id": "1d5a1610",
   "metadata": {},
   "source": [
    "100 Days Of Code - Log\n",
    "\n",
    "Day 7: November 21, 2023\n",
    "\n",
    "**Today's Progress**: \n",
    "\n",
    "1. Learned python functions and how do we can make them to interact with each other.\n",
    "2. Build up roadmap to work on 1 small mini project\n",
    "3. Explore few methods and worked on it.\n",
    "4. Tried to worked on logic building by debugging code."
   ]
  },
  {
   "cell_type": "markdown",
   "id": "384ca42e-be6c-430b-a19f-5a26924892db",
   "metadata": {},
   "source": [
    "#\n",
    "**LOGIC UNITS**"
   ]
  },
  {
   "cell_type": "code",
   "execution_count": 1,
   "id": "5f542964-b830-47f7-a522-449319d03829",
   "metadata": {
    "tags": []
   },
   "outputs": [],
   "source": [
    "r1 = [' ',' ',' ']\n",
    "r2 = [' ',' ',' ']\n",
    "r3 = [' ',' ',' ']"
   ]
  },
  {
   "cell_type": "code",
   "execution_count": 3,
   "id": "d808eeeb-624d-4b3f-bd76-bd317b6cde41",
   "metadata": {},
   "outputs": [],
   "source": [
    "def display(row1,row2,row3):\n",
    "    print(row1)\n",
    "    print(row2)\n",
    "    print(row3)"
   ]
  },
  {
   "cell_type": "code",
   "execution_count": 4,
   "id": "b9c2230c-e51e-4e11-b7dd-82025505ab0d",
   "metadata": {},
   "outputs": [
    {
     "name": "stdout",
     "output_type": "stream",
     "text": [
      "[' ', ' ', ' ']\n",
      "[' ', ' ', ' ']\n",
      "[' ', ' ', ' ']\n"
     ]
    }
   ],
   "source": [
    "display(r1,r2,r3)"
   ]
  },
  {
   "cell_type": "code",
   "execution_count": 7,
   "id": "7bd22171-e486-47ae-b6a7-6aaf29fbb1c8",
   "metadata": {},
   "outputs": [],
   "source": [
    "r2[0] = 'X'"
   ]
  },
  {
   "cell_type": "code",
   "execution_count": 9,
   "id": "aa9df4eb-64fa-4e13-a0b4-7783dfdcc371",
   "metadata": {},
   "outputs": [
    {
     "name": "stdout",
     "output_type": "stream",
     "text": [
      "[' ', ' ', ' ']\n",
      "['X', ' ', ' ']\n",
      "[' ', ' ', ' ']\n"
     ]
    }
   ],
   "source": [
    "display(r1,r2,r3)"
   ]
  },
  {
   "cell_type": "code",
   "execution_count": 29,
   "id": "9dc0d138-76eb-4693-9b1d-9ef6439d5e59",
   "metadata": {},
   "outputs": [
    {
     "name": "stdin",
     "output_type": "stream",
     "text": [
      "Enter the index number:  0\n"
     ]
    }
   ],
   "source": [
    "index_position = int(input(\"Enter the index number: \"))"
   ]
  },
  {
   "cell_type": "code",
   "execution_count": 31,
   "id": "160aa20b-4d1f-4e14-9708-9e24ff9bd983",
   "metadata": {},
   "outputs": [
    {
     "data": {
      "text/plain": [
       "' '"
      ]
     },
     "execution_count": 31,
     "metadata": {},
     "output_type": "execute_result"
    }
   ],
   "source": [
    "r3[index_position]"
   ]
  },
  {
   "cell_type": "code",
   "execution_count": 33,
   "id": "f16b81d9-8792-4603-ab1d-fe802d10f98f",
   "metadata": {},
   "outputs": [
    {
     "data": {
      "text/plain": [
       "'X'"
      ]
     },
     "execution_count": 33,
     "metadata": {},
     "output_type": "execute_result"
    }
   ],
   "source": [
    "r2[index_position]"
   ]
  },
  {
   "cell_type": "code",
   "execution_count": 90,
   "id": "e85b6adb-9241-49b5-9d1e-b67a3bc97b96",
   "metadata": {},
   "outputs": [],
   "source": [
    "def user_input():\n",
    "    result = ' '     # taking a placeholder and considering it as string because input will return str value at first\n",
    "    while result.isdigit() == False:    # running a loop so that user put a valid output in a correct range as reuired\n",
    "        result = input(\"Enter the index number from 0,1,2: \")   # after getting string as output we are typecasting it in a integer\n",
    "        if result.isdigit() == False:\n",
    "            print(\"Uh Oh That's a wrong choice of digit or nat a digit\")\n",
    "    return int(result)"
   ]
  },
  {
   "cell_type": "code",
   "execution_count": 92,
   "id": "73a4f279-a11c-4402-8cc2-51634067aacb",
   "metadata": {},
   "outputs": [
    {
     "name": "stdin",
     "output_type": "stream",
     "text": [
      "Enter the index number from 0,1,2:  six\n"
     ]
    },
    {
     "name": "stdout",
     "output_type": "stream",
     "text": [
      "Uh Oh That's a wrong choice of digit or nat a digit\n"
     ]
    },
    {
     "name": "stdin",
     "output_type": "stream",
     "text": [
      "Enter the index number from 0,1,2:  6\n"
     ]
    },
    {
     "data": {
      "text/plain": [
       "6"
      ]
     },
     "execution_count": 92,
     "metadata": {},
     "output_type": "execute_result"
    }
   ],
   "source": [
    "user_input()"
   ]
  },
  {
   "cell_type": "code",
   "execution_count": 104,
   "id": "09840e3a-bb17-4e36-b89b-3d10b046a08d",
   "metadata": {},
   "outputs": [],
   "source": [
    "# We can mak this function in very simple way of taking user input\n",
    "# But the main motive of building is to add more condition to get only specific and exact required input from user\n",
    "def user_input():\n",
    "    \n",
    "    #variable\n",
    "    #initial\n",
    "    #validating two choices\n",
    "    \n",
    "    result = ' '     # taking a placeholder and considering it as string because input will return str value at first\n",
    "    input_range = range(0,11)\n",
    "    valid_range = False\n",
    "    while result.isdigit() == False or valid_range == False:    # running a loop so that user put a valid output in a correct range as reuired\n",
    "        result = input(\"Enter the index number from 0,1,2: \")   # after getting string as output we are typecasting it in a integer\n",
    "        \n",
    "        # This condition is only for digit check if False then again this loop will run\n",
    "        if result.isdigit() == False:\n",
    "            print(\"Uh Oh !!! That's a wrong choice of digit or not a digit\")\n",
    "        \n",
    "        # This condition is for valid input range check if true then this loop will operate\n",
    "        if result.isdigit() == True:\n",
    "            if int(result) in input_range:\n",
    "                valid_range = True\n",
    "            else:\n",
    "                print(\"Uh Oh !!! The digit is not in specific range (0-10) \")\n",
    "                valid_range = False\n",
    "        \n",
    "    return int(result)"
   ]
  },
  {
   "cell_type": "code",
   "execution_count": 106,
   "id": "a679deff-2fd8-4595-b78b-1fe9cc2d08b3",
   "metadata": {},
   "outputs": [
    {
     "name": "stdin",
     "output_type": "stream",
     "text": [
      "Enter the index number from 0,1,2:  two\n"
     ]
    },
    {
     "name": "stdout",
     "output_type": "stream",
     "text": [
      "Uh Oh !!! That's a wrong choice of digit or not a digit\n"
     ]
    },
    {
     "name": "stdin",
     "output_type": "stream",
     "text": [
      "Enter the index number from 0,1,2:  90\n"
     ]
    },
    {
     "name": "stdout",
     "output_type": "stream",
     "text": [
      "Uh Oh !!! The digit is not in specific range (0-10) \n"
     ]
    },
    {
     "name": "stdin",
     "output_type": "stream",
     "text": [
      "Enter the index number from 0,1,2:  11\n"
     ]
    },
    {
     "name": "stdout",
     "output_type": "stream",
     "text": [
      "Uh Oh !!! The digit is not in specific range (0-10) \n"
     ]
    },
    {
     "name": "stdin",
     "output_type": "stream",
     "text": [
      "Enter the index number from 0,1,2:  10\n"
     ]
    },
    {
     "data": {
      "text/plain": [
       "10"
      ]
     },
     "execution_count": 106,
     "metadata": {},
     "output_type": "execute_result"
    }
   ],
   "source": [
    "user_input()"
   ]
  },
  {
   "cell_type": "markdown",
   "id": "5a164720-06d9-40c8-95d6-8e910acdc1fe",
   "metadata": {},
   "source": [
    "#"
   ]
  },
  {
   "cell_type": "code",
   "execution_count": 11,
   "id": "96fd056a-177a-4893-85f2-91b0e99d5773",
   "metadata": {},
   "outputs": [],
   "source": [
    "def display_game(l1):\n",
    "    print(\"Here is the current list\")\n",
    "    print(l1)"
   ]
  },
  {
   "cell_type": "code",
   "execution_count": 35,
   "id": "32d5266b-2f01-4902-ac70-8a7941d972c1",
   "metadata": {},
   "outputs": [
    {
     "name": "stdout",
     "output_type": "stream",
     "text": [
      "Here is the current list\n"
     ]
    },
    {
     "data": {
      "text/plain": [
       "[0, 1, 2]"
      ]
     },
     "execution_count": 35,
     "metadata": {},
     "output_type": "execute_result"
    }
   ],
   "source": [
    "lst1 = [0,1,2]\n",
    "display_game(lst1)"
   ]
  },
  {
   "cell_type": "code",
   "execution_count": 13,
   "id": "d5fb51ca-fce4-41e8-8b6b-08f525159e26",
   "metadata": {},
   "outputs": [],
   "source": [
    "def user_choice():\n",
    "    choice = ' '\n",
    "    while choice not in ['0','1','2']:\n",
    "\n",
    "        choice = input(\"Enter the valid index choice from 0,1,2: \")\n",
    "        \n",
    "        if choice not in ['0','1','2']:\n",
    "            print(\"Uh oh! That's incorrect or invalid index option\")\n",
    "        \n",
    "    return int(choice)"
   ]
  },
  {
   "cell_type": "code",
   "execution_count": 19,
   "id": "458b58f7-36d0-4c83-ae80-530a38b77e4b",
   "metadata": {},
   "outputs": [
    {
     "name": "stdin",
     "output_type": "stream",
     "text": [
      "Enter the valid index choice from 0,1,2:  9\n"
     ]
    },
    {
     "name": "stdout",
     "output_type": "stream",
     "text": [
      "Uh oh! That's incorrect or invalid index option\n"
     ]
    },
    {
     "name": "stdin",
     "output_type": "stream",
     "text": [
      "Enter the valid index choice from 0,1,2:  2\n"
     ]
    },
    {
     "data": {
      "text/plain": [
       "2"
      ]
     },
     "execution_count": 19,
     "metadata": {},
     "output_type": "execute_result"
    }
   ],
   "source": [
    "user_choice()"
   ]
  },
  {
   "cell_type": "code",
   "execution_count": 15,
   "id": "12680a1a-283e-4303-8185-9ba23b046655",
   "metadata": {},
   "outputs": [],
   "source": [
    "def placing_value(main_list, selected_choice):\n",
    "    \n",
    "    value = input(\"Enter the value you want to place at the above selected choice: \")\n",
    "    \n",
    "    main_list[selected_choice] = value\n",
    "    \n",
    "    return main_list"
   ]
  },
  {
   "cell_type": "code",
   "execution_count": 37,
   "id": "7084e985-1b93-49c2-a9d2-1681b44e2935",
   "metadata": {},
   "outputs": [
    {
     "name": "stdin",
     "output_type": "stream",
     "text": [
      "Enter the value you want to place at the above selected choice:  X\n"
     ]
    },
    {
     "data": {
      "text/plain": [
       "[0, 1, 'X']"
      ]
     },
     "execution_count": 37,
     "metadata": {},
     "output_type": "execute_result"
    }
   ],
   "source": [
    "placing_value(lst1, 2)"
   ]
  },
  {
   "cell_type": "code",
   "execution_count": 17,
   "id": "9df9774a-b90c-4b9d-9c09-6c7b7c84b1f1",
   "metadata": {},
   "outputs": [],
   "source": [
    "# We are making thi sfunction for the continuation of the game\n",
    "def game_on():\n",
    "    \n",
    "    choice = ' '\n",
    "    while choice not in ['Y', 'N']:\n",
    "        choice = input(\"Do you what to play Game? Yes or No (Y/N): \")\n",
    "        \n",
    "        if choice not in ['Y', 'N']:\n",
    "            print(\"Oh Sorry! I didn't get you.\")\n",
    "    \n",
    "    if choice == 'Y':\n",
    "        return True\n",
    "    else:\n",
    "        return False"
   ]
  },
  {
   "cell_type": "code",
   "execution_count": 43,
   "id": "8d482dd4-602e-4d23-9d2e-d0a4c9475ea5",
   "metadata": {},
   "outputs": [
    {
     "name": "stdin",
     "output_type": "stream",
     "text": [
      "Do you what to play Game? Yes or No (Y/N):  g\n"
     ]
    },
    {
     "name": "stdout",
     "output_type": "stream",
     "text": [
      "Oh Sorry! I didn't get you.\n"
     ]
    },
    {
     "name": "stdin",
     "output_type": "stream",
     "text": [
      "Do you what to play Game? Yes or No (Y/N):  y\n"
     ]
    },
    {
     "name": "stdout",
     "output_type": "stream",
     "text": [
      "Oh Sorry! I didn't get you.\n"
     ]
    },
    {
     "name": "stdin",
     "output_type": "stream",
     "text": [
      "Do you what to play Game? Yes or No (Y/N):  Y\n"
     ]
    },
    {
     "data": {
      "text/plain": [
       "True"
      ]
     },
     "execution_count": 43,
     "metadata": {},
     "output_type": "execute_result"
    }
   ],
   "source": [
    "game_on()"
   ]
  },
  {
   "cell_type": "code",
   "execution_count": 23,
   "id": "57d32726-55c9-4d0b-a978-cc94497a1e1d",
   "metadata": {},
   "outputs": [
    {
     "name": "stdout",
     "output_type": "stream",
     "text": [
      "Here is the current list\n",
      "[0, 1, 2]\n"
     ]
    },
    {
     "name": "stdin",
     "output_type": "stream",
     "text": [
      "Enter the valid index choice from 0,1,2:  2\n",
      "Enter the value you want to place at the above selected choice:  X\n"
     ]
    },
    {
     "name": "stdout",
     "output_type": "stream",
     "text": [
      "Here is the current list\n",
      "[0, 1, 'X']\n"
     ]
    },
    {
     "name": "stdin",
     "output_type": "stream",
     "text": [
      "Do you what to play Game? Yes or No (Y/N):  Y\n"
     ]
    },
    {
     "name": "stdout",
     "output_type": "stream",
     "text": [
      "Here is the current list\n",
      "[0, 1, 'X']\n"
     ]
    },
    {
     "name": "stdin",
     "output_type": "stream",
     "text": [
      "Enter the valid index choice from 0,1,2:  1\n",
      "Enter the value you want to place at the above selected choice:  X\n"
     ]
    },
    {
     "name": "stdout",
     "output_type": "stream",
     "text": [
      "Here is the current list\n",
      "[0, 'X', 'X']\n"
     ]
    },
    {
     "name": "stdin",
     "output_type": "stream",
     "text": [
      "Do you what to play Game? Yes or No (Y/N):  N\n"
     ]
    }
   ],
   "source": [
    "# Game contruction\n",
    "game = True\n",
    "game_lst = [0,1,2]\n",
    "\n",
    "\n",
    "while game:\n",
    "    # display list\n",
    "    display_game(game_lst)\n",
    "\n",
    "    # take user index choice\n",
    "    choice = user_choice()\n",
    "    \n",
    "    # place value of user choice\n",
    "    game_list = placing_value(game_lst, choice)\n",
    "    \n",
    "    display_game(game_lst)\n",
    "    \n",
    "    # Now we will run game's next step based upon the game_on function i.e. on players choice selection\n",
    "    game = game_on()\n",
    "    "
   ]
  },
  {
   "cell_type": "markdown",
   "id": "86e4682d-ed90-44b5-a4e5-c2c8bb996060",
   "metadata": {},
   "source": [
    "#\n",
    "\n",
    "3 things we learn from this example\n",
    "1. ability to display user option\n",
    "2. accept user input\n",
    "3. validate user input\n",
    "4. assigning the changes in user input\n",
    "5. Getting more user information to continue playing"
   ]
  },
  {
   "cell_type": "code",
   "execution_count": null,
   "id": "85355bd7-af01-4d91-92fa-86f549c83233",
   "metadata": {},
   "outputs": [],
   "source": []
  }
 ],
 "metadata": {
  "kernelspec": {
   "display_name": "Python 3 (ipykernel)",
   "language": "python",
   "name": "python3"
  },
  "language_info": {
   "codemirror_mode": {
    "name": "ipython",
    "version": 3
   },
   "file_extension": ".py",
   "mimetype": "text/x-python",
   "name": "python",
   "nbconvert_exporter": "python",
   "pygments_lexer": "ipython3",
   "version": "3.11.4"
  }
 },
 "nbformat": 4,
 "nbformat_minor": 5
}
