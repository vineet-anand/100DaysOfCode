{
 "cells": [
  {
   "cell_type": "markdown",
   "id": "17099288",
   "metadata": {},
   "source": [
    "100 Days Of Code - Log\n",
    "\n",
    "Day 5: November 16, 2023\n",
    "\n",
    "**Today's Progress**: \n",
    "\n",
    "1. Today I learned few concepts like Nested level variable scope.\n",
    "2. Explore few methods and worked on it.\n",
    "3. Tried to worked on logic building by debugging code."
   ]
  },
  {
   "cell_type": "code",
   "execution_count": 2,
   "id": "717d2674",
   "metadata": {},
   "outputs": [],
   "source": [
    "# This is an example of local variable defining inside a local function\n",
    "# lambda num : num ** 2"
   ]
  },
  {
   "cell_type": "code",
   "execution_count": 3,
   "id": "abbf8221",
   "metadata": {},
   "outputs": [],
   "source": [
    "# Declaring Global string\n",
    "name = 'THIS IS A GLOBAL GREET'\n",
    "def greet():\n",
    "    # Declaring Enclosing String\n",
    "    name = 'I AM GREETING FROM ENCLOSING'\n",
    "    def hello():\n",
    "        # Declaring Local String\n",
    "        name = 'I AM GREETING LOCALLY'\n",
    "        print('Hello ' + name)\n",
    "    hello()\n"
   ]
  },
  {
   "cell_type": "code",
   "execution_count": 4,
   "id": "10abd545",
   "metadata": {},
   "outputs": [
    {
     "name": "stdout",
     "output_type": "stream",
     "text": [
      "Hello I AM GREETING LOCALLY\n"
     ]
    }
   ],
   "source": [
    "greet()"
   ]
  },
  {
   "cell_type": "code",
   "execution_count": 5,
   "id": "ec7421f2",
   "metadata": {},
   "outputs": [],
   "source": [
    "x = 79      # assigning globally and not calling inside function won't be mutable\n",
    "def nmbr(x):\n",
    "    print(f'x is {x}')\n",
    "    # Local Reassignment\n",
    "    x = 500   # scope of this variable will be only this function level\n",
    "    print(f'Here refer to the locally RE-ASSIGNED variable {x}')\n",
    "    print(x)"
   ]
  },
  {
   "cell_type": "code",
   "execution_count": 6,
   "id": "a81e0f27",
   "metadata": {},
   "outputs": [
    {
     "name": "stdout",
     "output_type": "stream",
     "text": [
      "x is 79\n",
      "Here refer to the locally RE-ASSIGNED variable 500\n",
      "500\n",
      "79\n"
     ]
    }
   ],
   "source": [
    "nmbr(x)\n",
    "print(x)"
   ]
  },
  {
   "cell_type": "code",
   "execution_count": 7,
   "id": "dd14b771",
   "metadata": {},
   "outputs": [],
   "source": [
    "# If in case we want to assing a global variable and make it to change in global value.\n",
    "x = 29\n",
    "def nmbr():      # while assigning global inside function we wont pass argument for function instead we assign globally inside\n",
    "    global x     # reach to the global namespace and can be reassign as well and do effect global variable\n",
    "    print(f'x is {x}')\n",
    "    # Local Reassignment\n",
    "    x = 'New Value'   # scope of this variable will be only this function level\n",
    "    print(f'Here change to the locally RE-ASSIGNED variable {x}')"
   ]
  },
  {
   "cell_type": "code",
   "execution_count": 8,
   "id": "e417bd78",
   "metadata": {},
   "outputs": [
    {
     "name": "stdout",
     "output_type": "stream",
     "text": [
      "x is 29\n",
      "Here change to the locally RE-ASSIGNED variable New Value\n",
      "New Value\n"
     ]
    }
   ],
   "source": [
    "nmbr()\n",
    "print(x)"
   ]
  },
  {
   "cell_type": "code",
   "execution_count": null,
   "id": "d0c068be",
   "metadata": {},
   "outputs": [],
   "source": []
  }
 ],
 "metadata": {
  "kernelspec": {
   "display_name": "Python 3 (ipykernel)",
   "language": "python",
   "name": "python3"
  },
  "language_info": {
   "codemirror_mode": {
    "name": "ipython",
    "version": 3
   },
   "file_extension": ".py",
   "mimetype": "text/x-python",
   "name": "python",
   "nbconvert_exporter": "python",
   "pygments_lexer": "ipython3",
   "version": "3.11.4"
  }
 },
 "nbformat": 4,
 "nbformat_minor": 5
}
