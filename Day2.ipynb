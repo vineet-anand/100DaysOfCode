{
 "cells": [
  {
   "cell_type": "markdown",
   "id": "f2616394",
   "metadata": {},
   "source": [
    "100 Days Of Code - Log\n",
    "\n",
    "Day 2: October 28, 2023 (Example 1)\n",
    "\n",
    "**Today's Progress**: \n",
    "1. Today I've learned few concepts of function & interaction between function with help of randon shuffle game\n",
    "2. Practice few logics on functions like random executions.\n"
   ]
  },
  {
   "cell_type": "code",
   "execution_count": 1,
   "id": "3641637b",
   "metadata": {},
   "outputs": [],
   "source": [
    "from random import shuffle"
   ]
  },
  {
   "cell_type": "code",
   "execution_count": 2,
   "id": "387529b0",
   "metadata": {},
   "outputs": [],
   "source": [
    "def shuffle_lst(lst):\n",
    "    shuffle(lst)\n",
    "    return lst"
   ]
  },
  {
   "cell_type": "code",
   "execution_count": 3,
   "id": "4b7847a1",
   "metadata": {},
   "outputs": [],
   "source": [
    "main_list = [' ','O',' ']"
   ]
  },
  {
   "cell_type": "code",
   "execution_count": 4,
   "id": "5e99704b",
   "metadata": {},
   "outputs": [
    {
     "data": {
      "text/plain": [
       "[' ', 'O', ' ']"
      ]
     },
     "execution_count": 4,
     "metadata": {},
     "output_type": "execute_result"
    }
   ],
   "source": [
    "lst = shuffle_lst(main_list)\n",
    "lst"
   ]
  },
  {
   "cell_type": "code",
   "execution_count": 5,
   "id": "fcab2300",
   "metadata": {},
   "outputs": [],
   "source": [
    "def player_guess():\n",
    "    guess = ''\n",
    "    while guess not in ['0','1','2']:\n",
    "        guess = input('pick any number 0,1,2:')\n",
    "    return int(guess)"
   ]
  },
  {
   "cell_type": "code",
   "execution_count": 6,
   "id": "a42f8d6e",
   "metadata": {},
   "outputs": [
    {
     "name": "stdout",
     "output_type": "stream",
     "text": [
      "pick any number 0,1,2:2\n"
     ]
    }
   ],
   "source": [
    "indx = player_guess()"
   ]
  },
  {
   "cell_type": "code",
   "execution_count": 7,
   "id": "4b13ee20",
   "metadata": {},
   "outputs": [],
   "source": [
    "def check_guess(lst, indx):\n",
    "    if lst[indx] == 'O':\n",
    "        print('Correct guess')\n",
    "    else:\n",
    "        print('wrong guess')\n",
    "        print(lst)"
   ]
  },
  {
   "cell_type": "code",
   "execution_count": 8,
   "id": "efd07b37",
   "metadata": {},
   "outputs": [
    {
     "name": "stdout",
     "output_type": "stream",
     "text": [
      "pick any number 0,1,2:2\n",
      "Correct guess\n"
     ]
    }
   ],
   "source": [
    "# initialize list\n",
    "lst = [' ','O',' ']\n",
    "# shuffle list\n",
    "shfl = shuffle_lst(lst)\n",
    "# take guess\n",
    "guess = player_guess()\n",
    "# check guess\n",
    "check_guess(shfl,guess)\n"
   ]
  },
  {
   "cell_type": "code",
   "execution_count": null,
   "id": "53a98d68",
   "metadata": {},
   "outputs": [],
   "source": []
  }
 ],
 "metadata": {
  "kernelspec": {
   "display_name": "Python 3 (ipykernel)",
   "language": "python",
   "name": "python3"
  },
  "language_info": {
   "codemirror_mode": {
    "name": "ipython",
    "version": 3
   },
   "file_extension": ".py",
   "mimetype": "text/x-python",
   "name": "python",
   "nbconvert_exporter": "python",
   "pygments_lexer": "ipython3",
   "version": "3.11.4"
  }
 },
 "nbformat": 4,
 "nbformat_minor": 5
}
