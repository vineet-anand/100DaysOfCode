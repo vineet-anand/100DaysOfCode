{
 "cells": [
  {
   "cell_type": "markdown",
   "id": "e4899a43",
   "metadata": {},
   "source": [
    "100 Days Of Code - Log\n",
    "\n",
    "Day 4-5: November 15, 2023\n",
    "\n",
    "**Today's Progress**: \n",
    "\n",
    "1. Today I learned few concepts like map, filter, lambda function there use cases.\n",
    "2. Learned so many useful string methods.\n",
    "3. Tried to worked on logic building by debugging code."
   ]
  },
  {
   "cell_type": "code",
   "execution_count": 2,
   "id": "76f99144",
   "metadata": {},
   "outputs": [],
   "source": [
    "def splicer(mystrng):\n",
    "    if len(mystrng) % 2 == 0:\n",
    "        return 'EVEN'\n",
    "    else:\n",
    "        return len(mystrng)"
   ]
  },
  {
   "cell_type": "code",
   "execution_count": 3,
   "id": "a21f94e8",
   "metadata": {},
   "outputs": [],
   "source": [
    "l2 = [\"ANDY\", \"FIN\", \"KERTY\", \"SHAWNE\"]"
   ]
  },
  {
   "cell_type": "code",
   "execution_count": 4,
   "id": "5919c787",
   "metadata": {},
   "outputs": [
    {
     "data": {
      "text/plain": [
       "['EVEN', 3, 5, 'EVEN']"
      ]
     },
     "execution_count": 4,
     "metadata": {},
     "output_type": "execute_result"
    }
   ],
   "source": [
    "list(map(splicer, l2))"
   ]
  },
  {
   "cell_type": "markdown",
   "id": "1a43775c",
   "metadata": {},
   "source": [
    "**Important Notes**\n",
    "1. we cann't call function by passing argument in it map function, map function do it by itself\n",
    "2. we are passing function itself as an argument for the map function\n",
    "3. list(map(splicer(l2),l2)) # result in error\n",
    "4. list(map(splicer(),l2)) # result in error"
   ]
  },
  {
   "cell_type": "code",
   "execution_count": 6,
   "id": "195f7cde",
   "metadata": {},
   "outputs": [],
   "source": [
    "def check_even(num):\n",
    "    return num % 2 == 0"
   ]
  },
  {
   "cell_type": "code",
   "execution_count": 7,
   "id": "07aecd36",
   "metadata": {},
   "outputs": [],
   "source": [
    "n1 = [3,4,5,6]"
   ]
  },
  {
   "cell_type": "code",
   "execution_count": 8,
   "id": "814653c7",
   "metadata": {},
   "outputs": [
    {
     "data": {
      "text/plain": [
       "<filter at 0x1fbaa5a2230>"
      ]
     },
     "execution_count": 8,
     "metadata": {},
     "output_type": "execute_result"
    }
   ],
   "source": [
    "filter(check_even, n1)"
   ]
  },
  {
   "cell_type": "code",
   "execution_count": 9,
   "id": "da51aa34",
   "metadata": {},
   "outputs": [
    {
     "name": "stdout",
     "output_type": "stream",
     "text": [
      "4\n",
      "6\n"
     ]
    }
   ],
   "source": [
    "# 1 way to get the output for filter function\n",
    "for m in filter(check_even, n1):\n",
    "    print(m)"
   ]
  },
  {
   "cell_type": "code",
   "execution_count": 10,
   "id": "ecb87cd3",
   "metadata": {},
   "outputs": [
    {
     "data": {
      "text/plain": [
       "[4, 6]"
      ]
     },
     "execution_count": 10,
     "metadata": {},
     "output_type": "execute_result"
    }
   ],
   "source": [
    "list(filter(check_even, n1))"
   ]
  },
  {
   "cell_type": "code",
   "execution_count": 11,
   "id": "002d74be",
   "metadata": {},
   "outputs": [],
   "source": [
    "def square(n2):\n",
    "    return n2**2 "
   ]
  },
  {
   "cell_type": "code",
   "execution_count": 13,
   "id": "8e6c3c5d",
   "metadata": {},
   "outputs": [
    {
     "data": {
      "text/plain": [
       "49"
      ]
     },
     "execution_count": 13,
     "metadata": {},
     "output_type": "execute_result"
    }
   ],
   "source": [
    "square(7)"
   ]
  },
  {
   "cell_type": "markdown",
   "id": "629cb5e0",
   "metadata": {},
   "source": [
    "**Important Notes**\n",
    "1. Lambda are ANONYMOUS Function\n",
    "2. As we have to made this so that we can us esome functionality only for one time\n",
    "3. So we remove def and the function name and replace it with the lambda name\n"
   ]
  },
  {
   "cell_type": "code",
   "execution_count": 14,
   "id": "09c257b0",
   "metadata": {},
   "outputs": [],
   "source": [
    "sqrt = lambda n2: n2 ** 2"
   ]
  },
  {
   "cell_type": "code",
   "execution_count": 15,
   "id": "0bb8d31b",
   "metadata": {},
   "outputs": [
    {
     "data": {
      "text/plain": [
       "4900"
      ]
     },
     "execution_count": 15,
     "metadata": {},
     "output_type": "execute_result"
    }
   ],
   "source": [
    "sqrt(70)"
   ]
  },
  {
   "cell_type": "code",
   "execution_count": 16,
   "id": "61e343a4",
   "metadata": {},
   "outputs": [],
   "source": [
    "n1 = [ 3 , 28 , 11 , 5 , 97 , 6 , 2 , 88 , 28 , 33 , 79 ]"
   ]
  },
  {
   "cell_type": "code",
   "execution_count": 17,
   "id": "7de7e76d",
   "metadata": {},
   "outputs": [
    {
     "data": {
      "text/plain": [
       "[False, True, False, False, False, True, True, True, True, False, False]"
      ]
     },
     "execution_count": 17,
     "metadata": {},
     "output_type": "execute_result"
    }
   ],
   "source": [
    "# map is just mapping the lambda funtion output on list\n",
    "list(map(lambda n3 : n3 % 2 == 0, n1))     "
   ]
  },
  {
   "cell_type": "code",
   "execution_count": 18,
   "id": "35fa0676",
   "metadata": {},
   "outputs": [
    {
     "data": {
      "text/plain": [
       "[28, 6, 2, 88, 28]"
      ]
     },
     "execution_count": 18,
     "metadata": {},
     "output_type": "execute_result"
    }
   ],
   "source": [
    "# filter is just filtering out the list based upon the Anonymous or 1 time use lambda exression\n",
    "list(filter(lambda n3 : n3 % 2 == 0, n1))  "
   ]
  },
  {
   "cell_type": "code",
   "execution_count": 19,
   "id": "a2e8f2a9",
   "metadata": {},
   "outputs": [],
   "source": [
    "name1 = ['Andy' , 'Johanathan' , 'Carry' , 'Emily']"
   ]
  },
  {
   "cell_type": "code",
   "execution_count": 20,
   "id": "8394fe63",
   "metadata": {},
   "outputs": [
    {
     "data": {
      "text/plain": [
       "['Andy', 'Johanathan', 'Carry', 'Emily']"
      ]
     },
     "execution_count": 20,
     "metadata": {},
     "output_type": "execute_result"
    }
   ],
   "source": [
    "name1"
   ]
  },
  {
   "cell_type": "code",
   "execution_count": 21,
   "id": "5338e32c",
   "metadata": {},
   "outputs": [
    {
     "data": {
      "text/plain": [
       "['ydnA', 'nahtanahoJ', 'yrraC', 'ylimE']"
      ]
     },
     "execution_count": 21,
     "metadata": {},
     "output_type": "execute_result"
    }
   ],
   "source": [
    "list(map(lambda n : n[::-1], name1))"
   ]
  },
  {
   "cell_type": "code",
   "execution_count": 22,
   "id": "ace5b7c7",
   "metadata": {},
   "outputs": [],
   "source": [
    "smpl = ['ANDY', 'EVE', 'SALLY', 'SHAAN']"
   ]
  },
  {
   "cell_type": "code",
   "execution_count": 23,
   "id": "75d027a5",
   "metadata": {},
   "outputs": [],
   "source": [
    "# If we won't use map, filter kind of function then we have to make function that will be iterated within that functionality\n",
    "# like shown in below example where a function has been made for a list that is producing 1 letter of every item\n",
    "# above comment case can be clearly observed in next followup comment"
   ]
  },
  {
   "cell_type": "code",
   "execution_count": 24,
   "id": "660c9119",
   "metadata": {},
   "outputs": [],
   "source": [
    "def fl(lst):\n",
    "#    l = [x[0] for x in lst]\n",
    "    return [x[0] for x in lst]"
   ]
  },
  {
   "cell_type": "code",
   "execution_count": 25,
   "id": "6a1e98b5",
   "metadata": {},
   "outputs": [
    {
     "data": {
      "text/plain": [
       "['A', 'E', 'S', 'S']"
      ]
     },
     "execution_count": 25,
     "metadata": {},
     "output_type": "execute_result"
    }
   ],
   "source": [
    "fl(smpl)"
   ]
  },
  {
   "cell_type": "code",
   "execution_count": 26,
   "id": "a470a5ef",
   "metadata": {},
   "outputs": [],
   "source": [
    "def sfl(lst):\n",
    "    return lst[0]"
   ]
  },
  {
   "cell_type": "code",
   "execution_count": 27,
   "id": "778b2aff",
   "metadata": {},
   "outputs": [
    {
     "data": {
      "text/plain": [
       "'ANDY'"
      ]
     },
     "execution_count": 27,
     "metadata": {},
     "output_type": "execute_result"
    }
   ],
   "source": [
    "sfl(smpl)"
   ]
  },
  {
   "cell_type": "code",
   "execution_count": 28,
   "id": "56baf647",
   "metadata": {},
   "outputs": [
    {
     "data": {
      "text/plain": [
       "['A', 'E', 'S', 'S']"
      ]
     },
     "execution_count": 28,
     "metadata": {},
     "output_type": "execute_result"
    }
   ],
   "source": [
    "list(map(lambda num : num[0], smpl))"
   ]
  },
  {
   "cell_type": "code",
   "execution_count": 30,
   "id": "3c594e23",
   "metadata": {},
   "outputs": [],
   "source": [
    "# So Far\n",
    "# So many test cases has been observed \n",
    "# map function is use to map any function over iterator\n",
    "# we just have to make some functionality for 1 iterator and it will map over every items of iterator"
   ]
  },
  {
   "cell_type": "code",
   "execution_count": null,
   "id": "09509de0",
   "metadata": {},
   "outputs": [],
   "source": []
  }
 ],
 "metadata": {
  "kernelspec": {
   "display_name": "Python 3 (ipykernel)",
   "language": "python",
   "name": "python3"
  },
  "language_info": {
   "codemirror_mode": {
    "name": "ipython",
    "version": 3
   },
   "file_extension": ".py",
   "mimetype": "text/x-python",
   "name": "python",
   "nbconvert_exporter": "python",
   "pygments_lexer": "ipython3",
   "version": "3.11.4"
  }
 },
 "nbformat": 4,
 "nbformat_minor": 5
}
