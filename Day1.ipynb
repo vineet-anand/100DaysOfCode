{
 "cells": [
  {
   "cell_type": "markdown",
   "id": "43b15500-7ec8-44b0-8f41-6834369c0206",
   "metadata": {},
   "source": [
    "100 Days Of Code - Log\n",
    "\n",
    "Day 1: October 25, 2023 \n",
    "\n",
    "**Today's Progress**: \n",
    "1. Today I've learned few concepts of function & f string literals and string methods like split, upper, lower and there use cases.\n",
    "2. Debugging 1 of the code having a integration of f string literal in function with *args and **kwargs.\n"
   ]
  },
  {
   "cell_type": "code",
   "execution_count": 10,
   "id": "db16fe1c-1239-4263-a5c5-ae54c89b7c73",
   "metadata": {},
   "outputs": [],
   "source": [
    "def myfunc(*args, **kwargs):\n",
    "    print(args,kwargs)\n",
    "    print('I like {} {}'.format(args[1], kwargs['fruit']))"
   ]
  },
  {
   "cell_type": "code",
   "execution_count": 13,
   "id": "bb4dc13d-d542-4706-9780-01d82e305cc7",
   "metadata": {},
   "outputs": [
    {
     "name": "stdout",
     "output_type": "stream",
     "text": [
      "(10, 20, 30) {'veg': 'Califlour', 'fruit': 'orange'}\n",
      "I like 20 orange\n"
     ]
    }
   ],
   "source": [
    "myfunc(10,20,30,veg = 'Califlour', fruit = 'orange')"
   ]
  },
  {
   "cell_type": "code",
   "execution_count": 4,
   "id": "31a97da8-3895-4fcb-be8e-c375d9a48cb8",
   "metadata": {},
   "outputs": [],
   "source": [
    "def frtfunc(**kwargs):\n",
    "    print(kwargs)\n",
    "    if 'fruit' in kwargs:\n",
    "        print('fruit choice is {}'.format(kwargs['fruit']))\n",
    "    else:\n",
    "        print('fruit choice is not selected')"
   ]
  },
  {
   "cell_type": "code",
   "execution_count": 7,
   "id": "8625c84d-2890-42a9-a7f3-d1d907bd2a3f",
   "metadata": {},
   "outputs": [
    {
     "name": "stdout",
     "output_type": "stream",
     "text": [
      "{'veg': 'Califlour', 'fruit': 'orange'}\n",
      "fruit choice is orange\n"
     ]
    }
   ],
   "source": [
    "frtfunc(veg = 'Califlour', fruit = 'orange')"
   ]
  },
  {
   "cell_type": "code",
   "execution_count": null,
   "id": "5eb3c75b-ea1c-4865-8625-b7b3b2c5a432",
   "metadata": {},
   "outputs": [],
   "source": []
  }
 ],
 "metadata": {
  "kernelspec": {
   "display_name": "anaconda-panel-2023.05-py310",
   "language": "python",
   "name": "conda-env-anaconda-panel-2023.05-py310-py"
  },
  "language_info": {
   "codemirror_mode": {
    "name": "ipython",
    "version": 3
   },
   "file_extension": ".py",
   "mimetype": "text/x-python",
   "name": "python",
   "nbconvert_exporter": "python",
   "pygments_lexer": "ipython3",
   "version": "3.11.5"
  }
 },
 "nbformat": 4,
 "nbformat_minor": 5
}
